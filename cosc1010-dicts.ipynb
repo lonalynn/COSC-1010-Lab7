{
 "cells": [
  {
   "attachments": {},
   "cell_type": "markdown",
   "id": "a92f8ca1-1108-4048-af0d-0c653b679be9",
   "metadata": {},
   "source": [
    "## Hello! This is a runthrough of Lab 7 for COSC 1010. \n",
    "\n",
    "It walks you through most of the logic on what we're doing and why. Hopefully, this will help set you all off on the right foot."
   ]
  },
  {
   "cell_type": "markdown",
   "id": "8e2676fb-0328-43c0-bea6-edc19e43bb4e",
   "metadata": {},
   "source": [
    "#### We’ll be writing a piece of software that allows us to identify the most common words in movies.\n",
    "For example, we could be given the script (input):<br>\n",
    "`[\"lona went to get coffee.\",`<br>\n",
    "`\"lona ordered a pumpkin spice latte with almond milk, no whip.\",`<br>\n",
    "`\"lona felt seratonin for the first time that day.\"]`\n",
    "\n",
    "And will need to return the frequency of the most frequent word, followed by the word, i.e.: `[3, \"lona\"]`\n"
   ]
  },
  {
   "cell_type": "markdown",
   "id": "29ec8bac-5816-4e66-a75c-825684e7202e",
   "metadata": {},
   "source": [
    "## TODO 1 - define a fxn frequent_words that takes a script as a list of sentance strings.\n",
    "\n",
    "We've done this before~! That's fairly easy."
   ]
  },
  {
   "cell_type": "code",
   "execution_count": 1,
   "id": "01d33145-8891-477c-aab0-e7393ad1dd59",
   "metadata": {
    "jupyter": {
     "outputs_hidden": true
    }
   },
   "outputs": [],
   "source": [
    "def frequent_words(script):\n",
    "    #where script is a list of strings, i.e. [\"Lona held her office hours.\", \"Nobody came to visit her.\"].\n",
    "    \n",
    "    #code go here\n",
    "    ..."
   ]
  },
  {
   "cell_type": "markdown",
   "id": "4be76ef8",
   "metadata": {},
   "source": [
    "## TODO 2 - count (and store) the number of times each word appears in the script."
   ]
  },
  {
   "cell_type": "markdown",
   "id": "79536563-63f5-4553-9b51-537dce4e0002",
   "metadata": {},
   "source": [
    "We have not, in fact, done this before. But that's okay! I am here, don't fret, and I'll try to get you started off on the right foot.\n",
    "\n",
    "Let's first remember that our overarching project goal is **to count how often each and every word in a script occurs, and then to return the word that occurs the most.**\n",
    "\n",
    "The first thing we need to tackle in regards to this query is exactly how we're planning on storing the words and their frequencies, so that we can sort through them at the end and find the most frequent word. By choosing a data structure first, we can subsequentially determine how we \"parse\" (that is, look through) our data to count the frequency of each word.\n",
    "\n",
    "So, let me ask you: **What types of data structure works best for storing words and their frequencies?**<br>\n",
    "*(you may already know the answer from lecture today, but please humor me (: )*\n",
    " \n",
    ">Let's think about some of our goals for this. Our data structure must...\n",
    "> - increment a count for any given word every time it is encountered.\n",
    "> - keep words and their counts \"together\" somehow.\n",
    "\n",
    ">Oh, maybe a list of lists?<br>\n",
    ">ex `[[\"lona\", 1], [\"tired\", 1]]`... etc.<br>\n",
    ">It could work. Lists of lists can keep words and their counts together, as demonstrated above: \"lona\" is stuck with \"1\" quite well!<br>\n",
    ">However, **how are we planning on incrementing these counts?**\n",
    "\n",
    "If we were to use a list of lists, we would have to hard-code a way to increment word counts ourselves (oh, the misery). And, on that note, we'd also have to account for duplicate words, to prevent the same word from being added to the list of lists twice!\n",
    "\n",
    "Surely there's a more convenient and intuitive way to do this, right?"
   ]
  },
  {
   "cell_type": "markdown",
   "id": "f671ff16-d60b-4f92-a866-95f3db0ddf5d",
   "metadata": {},
   "source": [
    "## Introducing... dictionaries!!\n",
    "\n",
    "Luckily for us, Python is equipped with some fantastic libraries to conveniently and intuitively attack problems like this! We'll be digging into the lovely dictionary library for this task.\n",
    "\n",
    ">A dictionary is a collection which is ordered and changeable, and does NOT allow for duplicate members.\n",
    "\n",
    "Sounds like our cup of tea! \n",
    "\n",
    "I'm going to walk you through some common functionality of dictionaries here, and then we can take a look at how we might be able to use this fabulous data structure to take a look at our movie word counts (:"
   ]
  },
  {
   "cell_type": "markdown",
   "id": "aeb256d0",
   "metadata": {},
   "source": [
    "### Dictionary structure + construction\n",
    "\n",
    "A dictionary consists of key-value pairs. We've seen them used before in the Toki lab, but we haven't really gotten into what exactly they are yet!\n",
    "\n",
    "Let's take a look at what the construction of a dictionary looks like. To declare a dictionary, we use curly brackets `{}`!\n",
    "\n",
    "Each item in the dictionary is formatted as a key:value pair.<br>\n",
    "A **key** is a sort of 'lookup value' - *think of it like a word in a dictionary.*<br>\n",
    "A **value** is the thing that the key is storing - *think of it like a definition in the dictionary.*<br>\n",
    "\n",
    "Keys are most often strings, but values can be any data type you want - strings, chars, ints, doubles, floats... you name it!\n",
    "\n",
    "Let's see this in action - below is an example dictionary of some of the COSC 1010 staff and their positions.<br>\n",
    "- The **keys** are the positions - i.e. professor, graduate TA...\n",
    "- The **values** are the names of the people in said positions - i.e. mike, andey..."
   ]
  },
  {
   "cell_type": "code",
   "execution_count": 2,
   "id": "17991cce",
   "metadata": {},
   "outputs": [],
   "source": [
    "cosc1010_dict = {\n",
    "    #key : value\n",
    "    \"Professor\": \"Mike\",\n",
    "    \"Graduate TA\": \"Andey\",\n",
    "    \"Supplemental Instruction Leader\": \"Alicia\",\n",
    "    \"Undergraduate TA\": \"Lona\",\n",
    "}"
   ]
  },
  {
   "cell_type": "markdown",
   "id": "15953da9",
   "metadata": {},
   "source": [
    "Each key-value pair is called an **item** - and these items stick together! This makes it easy to access the value of an item by utilizing the item's key. This is fairly similar to how you can look up a definition in a dictionary by looking up a word.<br>\n",
    "\n",
    "Let's try to get the \"Professor\" value of COSC 1010 by using the professor key!"
   ]
  },
  {
   "cell_type": "code",
   "execution_count": 3,
   "id": "0b1d9205",
   "metadata": {},
   "outputs": [
    {
     "data": {
      "text/plain": [
       "'Mike'"
      ]
     },
     "execution_count": 3,
     "metadata": {},
     "output_type": "execute_result"
    }
   ],
   "source": [
    "#You could use brackets encasing the key, similar to how we do operations on lists, to get a value from a key.\n",
    "cosc1010_dict[\"Professor\"]"
   ]
  },
  {
   "cell_type": "code",
   "execution_count": 4,
   "id": "f1d70c20",
   "metadata": {},
   "outputs": [
    {
     "data": {
      "text/plain": [
       "'Mike'"
      ]
     },
     "execution_count": 4,
     "metadata": {},
     "output_type": "execute_result"
    }
   ],
   "source": [
    "#You could also use the .get() operation to get a value from a key!\n",
    "cosc1010_dict.get(\"Professor\")"
   ]
  },
  {
   "cell_type": "markdown",
   "id": "31ceab03",
   "metadata": {},
   "source": [
    "Another nice trait about dictionaries is that you can match keys and values with different data types to each other.\n",
    "\n",
    "Let's look at part of my grocery list and see how we can match **string keys** with **int values**, then get the value associated with a given string."
   ]
  },
  {
   "cell_type": "code",
   "execution_count": 5,
   "id": "610bc61a",
   "metadata": {},
   "outputs": [
    {
     "data": {
      "text/plain": [
       "4"
      ]
     },
     "execution_count": 5,
     "metadata": {},
     "output_type": "execute_result"
    }
   ],
   "source": [
    "beverage_groceries = {\n",
    "    #key : value\n",
    "    \"Monster Energy - Ultra Rosa\": 4,\n",
    "    \"Yerba Mate - Mint\": 7,\n",
    "    \"Almond Milk\": 1,\n",
    "    \"Kombucha\": 4 ,\n",
    "}\n",
    "beverage_groceries.get(\"Kombucha\")"
   ]
  },
  {
   "cell_type": "markdown",
   "id": "4ee19e09",
   "metadata": {},
   "source": [
    "Cool! Hopefully we're kind of getting the hang of it now - and hopefully we can also see how dictionaries could be helpful for storing word counts.\n",
    "\n",
    "### Adding, updating, and all that jazz! \n",
    "\n",
    "Now that we've seen some examples of dictionaries and how to access values by their keys, let's get into some other operations we can do with dictionaries that might help us accomplish the task of getting word counts for every word in a script. "
   ]
  },
  {
   "cell_type": "markdown",
   "id": "7f8c721e",
   "metadata": {},
   "source": [
    "Next, let's try to add a new key and value to an empty dictionary. For this example, I want to keep track of the number of cups of coffee each member of my lab, the MALLET lab, has drank this week, so that I know how much coffee I should buy for next week!\n",
    "\n",
    "First, we make the empty dictionary. This is similar to how we make an empty list, but we use curly brackets!"
   ]
  },
  {
   "cell_type": "code",
   "execution_count": 6,
   "id": "aa20e4b6",
   "metadata": {
    "scrolled": true
   },
   "outputs": [],
   "source": [
    "mallet_coffee_consumption = {}"
   ]
  },
  {
   "cell_type": "markdown",
   "id": "254a5daa",
   "metadata": {},
   "source": [
    "Alright, let's add our first lab member and their coffee consumption.<br>\n",
    "`Josh` has drank `3` cups of coffee today.\n",
    "\n",
    "**There are two different ways to add an item to a dictionary - let's take a look at them!**\n",
    "\n",
    "`mallet_coffee_consumption.update({\"Josh\": 3})`<br>\n",
    "> `update()` will update a dictionary with `{key: value}`. If the key `\"Josh\"` **is not in the dictionary**, the key-value pair `\"Josh\": 3` is added to the dictionary. If the key `\"Josh\"` is **already in the dictionary** , its value will be replaced with the new value.<br>\n",
    "\n",
    "`mallet_coffee_consumption[\"Josh\"] = 3`\n",
    "> Using `[]` will add a new key of `\"Josh\"`, and its corresponding value `3` to the dictionary.\n",
    "\n",
    "Personally, I find the `update()` method to be a lot easier to use - so I'd highly reccomend you try using it as well. That being said, both methods are equally efficient - so no sweat if you prefer the second method of adding items. \n",
    "\n",
    "Let's add our first item to this dictionary below!"
   ]
  },
  {
   "cell_type": "code",
   "execution_count": 7,
   "id": "60546437",
   "metadata": {},
   "outputs": [
    {
     "name": "stdout",
     "output_type": "stream",
     "text": [
      "{'Josh': 3}\n"
     ]
    }
   ],
   "source": [
    "mallet_coffee_consumption.update({\"Josh\": 3})\n",
    "\n",
    "print(mallet_coffee_consumption)"
   ]
  },
  {
   "cell_type": "markdown",
   "id": "c4725924",
   "metadata": {},
   "source": [
    "Cool, let's go ahead and add a few more lab members..."
   ]
  },
  {
   "cell_type": "code",
   "execution_count": 8,
   "id": "95f8d43e",
   "metadata": {},
   "outputs": [
    {
     "name": "stdout",
     "output_type": "stream",
     "text": [
      "{'Josh': 3, 'Lars': 0, 'Haniye': 1, 'Damir': 3, 'Natalie': 2, 'Lona': 5}\n"
     ]
    }
   ],
   "source": [
    "mallet_coffee_consumption.update({\"Lars\": 0})\n",
    "mallet_coffee_consumption.update({\"Haniye\": 1})\n",
    "mallet_coffee_consumption.update({\"Damir\": 3})\n",
    "mallet_coffee_consumption.update({\"Natalie\": 2})\n",
    "mallet_coffee_consumption.update({\"Lona\": 5})\n",
    "\n",
    "print(mallet_coffee_consumption)"
   ]
  },
  {
   "cell_type": "markdown",
   "id": "48d44808",
   "metadata": {},
   "source": [
    "This just in: Natalie has drank a third cup of coffee today! She's already in our list, so **how do we increment her coffee count?**\n",
    "\n",
    "Well, handy little trick - `update()` can not only add new key-value pairs to a dictionary, but it can also *literally* update them! Let's recall the definition from above...\n",
    "\n",
    "> `update()` will update a dictionary with `{key: value}`. If the key is **already in the dictionary** , its value will be replaced with the new value.<br>\n",
    "\n",
    "So we can increment Natalie's coffee-cup-count by using `update()`, neat!"
   ]
  },
  {
   "cell_type": "code",
   "execution_count": 9,
   "id": "91e1bb15",
   "metadata": {},
   "outputs": [
    {
     "name": "stdout",
     "output_type": "stream",
     "text": [
      "{'Josh': 3, 'Lars': 0, 'Haniye': 1, 'Damir': 3, 'Natalie': 3, 'Lona': 5}\n"
     ]
    }
   ],
   "source": [
    "mallet_coffee_consumption.update({\"Natalie\": 3})\n",
    "\n",
    "print(mallet_coffee_consumption)"
   ]
  },
  {
   "cell_type": "markdown",
   "id": "6823c166",
   "metadata": {},
   "source": [
    "Alright - say Lars has asked me if he's in the coffee consumption dictionary. **How would I be able to check if he is in the dictionary?**\n",
    "\n",
    "We can use the `in` operator to check if a given key is already in the dictionary!!\n",
    "> `in` returns `True` if a given key is already in the dictionary, and `False` if not.\n",
    "\n",
    "Let's try that out below."
   ]
  },
  {
   "cell_type": "code",
   "execution_count": 10,
   "id": "06bc6271",
   "metadata": {},
   "outputs": [
    {
     "name": "stdout",
     "output_type": "stream",
     "text": [
      "True\n"
     ]
    }
   ],
   "source": [
    "larsInDict = \"Lars\" in mallet_coffee_consumption\n",
    "\n",
    "print(larsInDict)"
   ]
  },
  {
   "cell_type": "markdown",
   "id": "ba9ce14b",
   "metadata": {},
   "source": [
    "Okay, I'm going out of town for the day and gave my dictionary to my friend Haniye to keep track of the coffee counts while I'm gone. She sees Damir drink another cup of coffee, but doesn't know what his current count is. \n",
    "**She determines that she will need to access his current coffee count, then add `1` to it. How would she do so?**\n",
    "\n",
    "Lucky for Haniye, dictionaries are kind! We can use the `get()` function to get the value associated with a given key.\n",
    ">`get(key)` returns the `value` associated with a given `key`. It returns the string `None` if the `key` is not in the dictionary.\n",
    "\n",
    "Let's get Damir's coffee count!"
   ]
  },
  {
   "cell_type": "code",
   "execution_count": 11,
   "id": "e40ab3c3",
   "metadata": {},
   "outputs": [
    {
     "name": "stdout",
     "output_type": "stream",
     "text": [
      "3\n"
     ]
    }
   ],
   "source": [
    "damir_count = mallet_coffee_consumption.get(\"Damir\")\n",
    "\n",
    "print(damir_count)"
   ]
  },
  {
   "cell_type": "markdown",
   "id": "332ab5e5",
   "metadata": {},
   "source": [
    "Now that Haniye knows Damir's coffee count, she can update his value using `update()`! She's stored his *current* count in `damir_count`, so all she needs to do is add 1 to that count and pass that to update as the second parameter. Here's that in action!"
   ]
  },
  {
   "cell_type": "code",
   "execution_count": 12,
   "id": "3648a10e",
   "metadata": {},
   "outputs": [
    {
     "name": "stdout",
     "output_type": "stream",
     "text": [
      "{'Josh': 3, 'Lars': 0, 'Haniye': 1, 'Damir': 4, 'Natalie': 3, 'Lona': 5}\n"
     ]
    }
   ],
   "source": [
    "mallet_coffee_consumption.update({\"Damir\": damir_count + 1})\n",
    "\n",
    "print(mallet_coffee_consumption)"
   ]
  },
  {
   "cell_type": "markdown",
   "id": "20d0818f",
   "metadata": {},
   "source": [
    "Okay, we've gotten a *little* off track with all of these fun little examples - but hopefully they've shed some light on how we might be able to use a dictionary to help us with today's lab.\n",
    "\n",
    "Let's get back to the code!"
   ]
  },
  {
   "cell_type": "markdown",
   "id": "f77c0b24",
   "metadata": {},
   "source": [
    "## Back to TODO 2...\n",
    "\n",
    "Now we know that we want to make an empty dictionary to hold our word count pairs, let's get back to our function. I'll be hopping between this notebook and codio to show you all of the fun and exciting coding shenanigans. First, let's make that empty dictionary!"
   ]
  },
  {
   "cell_type": "code",
   "execution_count": 13,
   "id": "2eabd39c",
   "metadata": {},
   "outputs": [],
   "source": [
    "def frequent_words(script):\n",
    "    #where script is a list of strings, i.e. [\"Lona held her office hours.\", \"Nobody came to visit her.\"].\n",
    "    \n",
    "    words_frequency_pairs = {}"
   ]
  },
  {
   "cell_type": "markdown",
   "id": "7ec56929",
   "metadata": {},
   "source": [
    "Cool beans! Next, we need to take a look at our script and figure out how we're going to look through it. We've done this a lot in past labs - any ideas on what tool we might use to iterate through every word in the script?\n",
    "\n",
    "If you said (or thought) \"for loop\", you're correct! We'll need to make one for loop for each sentance in the script, and one for loop for each word in the sentance."
   ]
  },
  {
   "cell_type": "code",
   "execution_count": null,
   "id": "8d2a6a65",
   "metadata": {},
   "outputs": [],
   "source": [
    "def frequent_words(script):\n",
    "    #where script is a list of strings, i.e. [\"Lona held her office hours.\", \"Nobody came to visit her.\"].\n",
    "    \n",
    "    words_frequency_pairs = {}\n",
    "    \n",
    "    for sentance in script:\n",
    "        #i.e. \"Lona held her office hours\"\n",
    "        for word in sentance.split():\n",
    "            #i.e. \"Lona\""
   ]
  },
  {
   "cell_type": "markdown",
   "id": "1867c9aa",
   "metadata": {},
   "source": [
    "Alright - we've got a for loop going, and we've got a dictionary declared. Now all we need to do is some dictionary operations. Let's walk through what we want to do in each iteration of the internal `for word in sentance.split()` loop.\n",
    "\n",
    "1. Check if the word is already in the dictionary\n",
    "    - If word is in dictionary, increment the word's count by 1. add the word to the dictionary + a count of `1`.\n",
    "2. If word is not in dictionary, add the word to the dictionary + a count of `1`.\n",
    "\n",
    "I've given you all the pieces needed to do this - now it's up to you to put things together.\n",
    "I'll get you started with some pseudocode, and some examples we went through that you can adapt to the purposes of your code."
   ]
  },
  {
   "cell_type": "code",
   "execution_count": null,
   "id": "0e9541ed",
   "metadata": {},
   "outputs": [],
   "source": [
    "for sentance in script:\n",
    "#(i.e. \"Lona held her office hours\")\n",
    "   \n",
    "    for word in sentance.split():\n",
    "    #(i.e. \"Lona\")\n",
    "    \n",
    "        if word is in your dictionary: #try using if (word) in (dict)!\n",
    "            \n",
    "            - get current word count, store in variable\n",
    "            #example from earlier: damir_count = mallet_coffee_consumption.get(\"Damir\"))\n",
    "            #this gets the current value that the key \"Damir\" is storing.\n",
    "                    \n",
    "            - increment word count using the stored word count + 1 and update()\n",
    "            #example from earlier: `mallet_coffee_consumption.update({\"Damir\": damir_count + 1})\n",
    "            #this increments the count at key \"Damir\" to 1. \n",
    " \n",
    "         else  #word is not in our dictionary, so we need to add it!*\n",
    " \n",
    "            - update dictionary with new word + a count of 1\n",
    "            #example from earlier: `mallet_coffee_consumption.update({\"Josh\": 3})`\n",
    "            #this adds a new key:value pair, with a key of 'Josh' and a value of 3."
   ]
  },
  {
   "cell_type": "markdown",
   "id": "22add408",
   "metadata": {},
   "source": [
    "## TODO 3 - Identify the most common word in the script."
   ]
  },
  {
   "cell_type": "markdown",
   "id": "312dbc7b",
   "metadata": {},
   "source": [
    "Alright - We'll come back to all of that in a bit, but let me also give you some framework for identifying the most common word in the script.\n",
    "\n",
    "Assuming your dictionary is beautiful and wonderful, and elegantly stored each word and its frequency, how do we figure out what word has the highest frequency? \n",
    "\n",
    ">Let's think about some of our goals for this. We want to...\n",
    "> - iterate through each item in the dictionary\n",
    "> - keep track of the word with the highest frequency\n",
    "> - compare each word's frequency to the highest frequency word\n",
    "\n",
    "That's a lot - and there's no built-in dictionary function that can do it. We're going to have to use some of our knowledge of mathematical concepts and a bit of smart coding to accomplish this!\n",
    "\n",
    "First and foremost, let's think about how we'll begin to iterate through each item in the dictionary. Don't fret, though! **Just like lists, we can also traverse each item in a dictionary utilizing one of our favourite loops! Any thoughts?**\n",
    "\n",
    "~~yup it's a for loop lol~~\n",
    "\n",
    "Whipping out our coffee count example, here's a little example of how we can traverse just the keys in a loop to do a roll-call for who's in the mallet lab. As a reminder, the keys are that first string value - in this case, the names of my fellow lab members.\n",
    "\n",
    ">We can use the `keys()` function of a dictionary in a for loop to go through each key in the dictionary."
   ]
  },
  {
   "cell_type": "code",
   "execution_count": 14,
   "id": "d0f91a74",
   "metadata": {},
   "outputs": [
    {
     "name": "stdout",
     "output_type": "stream",
     "text": [
      "Josh is in the mallet lab!\n",
      "Lars is in the mallet lab!\n",
      "Haniye is in the mallet lab!\n",
      "Damir is in the mallet lab!\n",
      "Natalie is in the mallet lab!\n",
      "Lona is in the mallet lab!\n"
     ]
    }
   ],
   "source": [
    "for name in mallet_coffee_consumption.keys():\n",
    "    print(name + \" is in the mallet lab!\")"
   ]
  },
  {
   "cell_type": "markdown",
   "id": "80b0a5e2",
   "metadata": {},
   "source": [
    "Okay, what if we want to get the values in the dictionary to do the roll call instead? As a reminder, the values are that int value stored with the strings - in this case, the number of cups of coffee each member has drank.\n",
    "\n",
    "\n",
    ">We can use the `values()` function of a dictionary in a for loop to go through each value in the dictionary."
   ]
  },
  {
   "cell_type": "code",
   "execution_count": 15,
   "id": "1237a163",
   "metadata": {},
   "outputs": [
    {
     "name": "stdout",
     "output_type": "stream",
     "text": [
      "3 cups of coffee!\n",
      "0 cups of coffee!\n",
      "1 cups of coffee!\n",
      "4 cups of coffee!\n",
      "3 cups of coffee!\n",
      "5 cups of coffee!\n"
     ]
    }
   ],
   "source": [
    "for count in mallet_coffee_consumption.values():\n",
    "    print(str(count) + \" cups of coffee!\")"
   ]
  },
  {
   "cell_type": "markdown",
   "id": "5dcc2a2e",
   "metadata": {},
   "source": [
    "Well, these examples are fun, but for our lab today, don't need just the values or just the keys - we need both to determine which word has the highest count.\n",
    "\n",
    "Luckily for us, there is a way to iterate through both keys and values at the same time!\n",
    "\n",
    ">We can use the `items()` function of a dictionary in a for loop to go through each key and value pair in the dictionary.\n",
    "\n",
    "However, we'll need to declare our for loop a little differently to properly iterate through our items. Instead of the `for x in y` syntax we've seen, we'll need to do a `for x, y in z` for loop so that we can keep those key-value pairs together!\n",
    "\n",
    "Let's try one last example of that roll call, except with both keys and values."
   ]
  },
  {
   "cell_type": "code",
   "execution_count": 16,
   "id": "8de3fada",
   "metadata": {},
   "outputs": [
    {
     "name": "stdout",
     "output_type": "stream",
     "text": [
      "Josh has drank 3 cups of coffee this week!\n",
      "Lars has drank 0 cups of coffee this week!\n",
      "Haniye has drank 1 cups of coffee this week!\n",
      "Damir has drank 4 cups of coffee this week!\n",
      "Natalie has drank 3 cups of coffee this week!\n",
      "Lona has drank 5 cups of coffee this week!\n"
     ]
    }
   ],
   "source": [
    "for name, count in mallet_coffee_consumption.items():\n",
    "    print(name + \" has drank \" + str(count) + \" cups of coffee this week!\")"
   ]
  },
  {
   "cell_type": "markdown",
   "id": "ae780d36",
   "metadata": {},
   "source": [
    "Let's look at one more example of something we can do with that loop. We see here that we can reference 2 variables - `name`, which is the key of the pair, and `count`, which is the value of the pair.\n",
    "\n",
    "I need the total number of cups of coffee drank this week, since I'm headed to walmart today! Let's total up the coffee cups using our handy dictionary loop, and see what we get."
   ]
  },
  {
   "cell_type": "code",
   "execution_count": 17,
   "id": "cc1b6337",
   "metadata": {},
   "outputs": [
    {
     "name": "stdout",
     "output_type": "stream",
     "text": [
      "16\n"
     ]
    }
   ],
   "source": [
    "#a variable to hold the total # of cups drank this week\n",
    "totalCups = 0\n",
    "\n",
    "for name, count in mallet_coffee_consumption.items():\n",
    "    #add each count to the totalCups\n",
    "    totalCups += count\n",
    "    \n",
    "print(totalCups)"
   ]
  },
  {
   "cell_type": "markdown",
   "id": "b9d9e6dc",
   "metadata": {},
   "source": [
    "Alright - so we know we can use a `for word, count in dictionary.items()` type of loop to iterate through each item in the dictionary. We also know we can access just the counts, or just the names - that's certainly helpful!!\n",
    "\n",
    "**Next, how do we go about keeping track of the word with the highest frequency?**\n",
    "\n",
    "Hmm... I think you have almost all the tools in your toolkit to solve this one on your own! But first, let me give you a little example program of how I would go about storing the largest integer in a list of ints.\n",
    "\n",
    "Maybe it'll give you a bit of inspiration ;)"
   ]
  },
  {
   "cell_type": "code",
   "execution_count": 18,
   "id": "181f56b1",
   "metadata": {},
   "outputs": [
    {
     "name": "stdout",
     "output_type": "stream",
     "text": [
      "2000\n"
     ]
    }
   ],
   "source": [
    "#Keep track of the largest integer in a list! Expected return: 2000\n",
    "\n",
    "mylist = [3, 44, 2, 420, 69, 8, 3, 2000, 39, 1]\n",
    "\n",
    "largest_int = 0\n",
    "\n",
    "for integer in mylist:\n",
    "    if integer > largest_int:\n",
    "        largest_int = integer\n",
    "\n",
    "print(largest_int)"
   ]
  },
  {
   "attachments": {
    "jinbe.webp": {
     "image/webp": "[encoded data removed]"
    }
   },
   "cell_type": "markdown",
   "id": "533359f3",
   "metadata": {},
   "source": [
    "I think this is where I ought to leave you! Hopefully this was helpful, and gives you a bit of insight onto how to attack the rest of this lab <3!![jinbe.webp](attachment:jinbe.webp)"
   ]
  }
 ],
 "metadata": {
  "kernelspec": {
   "display_name": "Python 3 (ipykernel)",
   "language": "python",
   "name": "python3"
  },
  "language_info": {
   "codemirror_mode": {
    "name": "ipython",
    "version": 3
   },
   "file_extension": ".py",
   "mimetype": "text/x-python",
   "name": "python",
   "nbconvert_exporter": "python",
   "pygments_lexer": "ipython3",
   "version": "3.9.12"
  }
 },
 "nbformat": 4,
 "nbformat_minor": 5
}
